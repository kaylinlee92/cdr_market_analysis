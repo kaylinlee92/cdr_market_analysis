{
 "cells": [
  {
   "cell_type": "code",
   "execution_count": 1,
   "metadata": {},
   "outputs": [],
   "source": [
    "%matplotlib inline\n",
    "import numpy as np\n",
    "import os\n",
    "import matplotlib as mpl\n",
    "import matplotlib.pyplot as plt\n",
    "import pandas as pd\n",
    "from scipy import integrate\n",
    "import seaborn as sns\n",
    "import itertools\n",
    "from matplotlib.lines import Line2D\n",
    "import matplotlib.pylab as plb\n",
    "from sklearn.linear_model import LinearRegression\n",
    "import matplotlib.style as style\n",
    "from matplotlib.patches import Patch\n",
    "#import pyam\n",
    "\n",
    "#data_path = \"/Users/susannebaur/Box Sync/CDR_equity/CDR_equity_SB/Data/\"\n",
    "#data_path = \"/Users/Broccolee/Google Drive/Grad School/TU BERLIN/Negative Emissions & Carbon Markets/Data/\"\n",
    "data_path = \"/Users/kaylinlee/Desktop/KL_ISIpedia/Thesis/Code/Data/\"\n",
    "#plot_path = \"/Users/susannebaur/Box Sync/CDR_equity/CDR_equity_SB/Plots/\"\n",
    "plot_path = \"/Users/kaylinlee/Desktop/KL_ISIpedia/Thesis/Code/Plots/\"\n",
    "\n",
    "#data_path = \"/Users/clairefyson/Box Sync/CDR_equity/CDR_equity_SB/Data/\"\n",
    "#plot_path = \"/Users/clairefyson/Box Sync/CDR_equity/CDR_equity_SB/Plots/\"\n",
    "\n",
    "pd.set_option('display.max_columns', 500)"
   ]
  },
  {
   "cell_type": "code",
   "execution_count": 74,
   "metadata": {},
   "outputs": [],
   "source": [
    "#uploading data \n",
    "equity_remind=pd.read_excel(data_path+'REMIND_equity_analysis.xls')\n",
    "equity_image=pd.read_excel(data_path+'IMAGE_equity_analysis.xls')\n",
    "allmodels_df=pd.read_excel(data_path+'MASTERDF_equity_analysis.xls') #master datafram with all regions from IMAGE and REMIND\n",
    "allmodels_equal_df=pd.read_excel(data_path+'allmodels_df.xls') #consolidated with REMIND regions"
   ]
  },
  {
   "cell_type": "code",
   "execution_count": 58,
   "metadata": {},
   "outputs": [],
   "source": [
    "regions_rem = ['AFR', 'CHN', 'EUR', 'IND', 'JPN', 'LAM', 'MEA', 'OAS', 'ROW', 'RUS', 'USA', 'World']\n",
    "regions_ima = ['BRA', 'CAN', 'CEU', 'CHN', 'EAF', 'INDIA', 'INDO', 'JAP', 'KOR', 'ME', 'MEX', 'NAF',\n",
    " 'OCE', 'RCAM', 'RSAF', 'RSAM', 'RSAS', 'RUS', 'SAF', 'SEAS', 'STAN', 'TUR', 'UKR',\n",
    " 'USA', 'WAF', 'WEU', 'World']\n",
    "#regions_mes = ['CHN', 'EU', 'IND', 'R11_AFR', 'R11_FSU', 'R11_LAM',\n",
    "# 'R11_MEA', 'R11_PAO', 'R11_PAS', 'USA', 'World']\n",
    "\n",
    "regions_rem_noworld = ['AFR', 'CHN', 'EUR', 'IND', 'JPN', 'LAM', 'MEA', 'OAS', 'ROW', 'RUS', 'USA']\n",
    "regions_ima_noworld = ['BRA', 'CAN', 'CEU', 'CHN', 'EAF', 'INDIA', 'INDO', 'JAP', 'KOR', 'ME', 'MEX', 'NAF',\n",
    " 'OCE', 'RCAM', 'RSAF', 'RSAM', 'RSAS', 'RUS', 'SAF', 'SEAS', 'STAN', 'TUR', 'UKR',\n",
    " 'USA', 'WAF', 'WEU']\n",
    "#regions_mes_noworld = ['CHN', 'EU', 'IND', 'R11_AFR', 'R11_FSU', 'R11_LAM',\n",
    "# 'R11_MEA', 'R11_PAO', 'R11_PAS',  'USA']\n",
    "remind_scens=['SSP1-19-SPA1-V17', 'SSP2-19-SPA2-V17', 'SSP1-26-SPA1-V17',\n",
    "              'SSP2-26-SPA2-V17', 'SSP5-19-SPA5-V17', 'SSP5-26-SPA5-V17']\n",
    "image_scens=['SSP1-19-SPA0-V17', 'SSP2-LF-SPA2-V17']"
   ]
  },
  {
   "cell_type": "code",
   "execution_count": 69,
   "metadata": {},
   "outputs": [
    {
     "name": "stdout",
     "output_type": "stream",
     "text": [
      "15919.8\n",
      "[15920.]\n"
     ]
    },
    {
     "data": {
      "text/plain": [
       "107    12130.0\n",
       "215    15920.0\n",
       "323    11030.0\n",
       "431    15600.0\n",
       "539    22470.0\n",
       "647    22100.0\n",
       "Name: BECCS, dtype: float64"
      ]
     },
     "execution_count": 69,
     "metadata": {},
     "output_type": "execute_result"
    }
   ],
   "source": [
    "print(equity_remind.loc[(equity_remind.Scenario==('SSP2-19-SPA2-V17'))\n",
    "                         &(equity_remind.Year==(2100))& (equity_remind.Region.isin(regions_rem_noworld))]['BECCS'].sum())\n",
    "print(equity_remind.loc[(equity_remind.Scenario==('SSP2-19-SPA2-V17'))\n",
    "                        &(equity_remind.Region==(\"World\"))&(equity_remind.Year==(2100))]['BECCS'].values) \n",
    "equity_remind.loc[(equity_remind.Region==(\"World\"))&(equity_remind.Year==(2100))]['BECCS']"
   ]
  },
  {
   "cell_type": "code",
   "execution_count": 18,
   "metadata": {},
   "outputs": [
    {
     "data": {
      "text/plain": [
       "0"
      ]
     },
     "execution_count": 18,
     "metadata": {},
     "output_type": "execute_result"
    }
   ],
   "source": [
    "(equity_image.loc[equity_image.Region.isin(regions_ima) & equity_image.Year==(2100)\n",
    "                 ].values.sum()) - (equity_image.loc[equity_image.Region.isin(regions_ima_noworld)&equity_image.Year==(2100)].values.sum()) \n",
    "#== (equity_remind.loc[equity_remind.Region==('World')&equity_remind.Year==(2100)].values)"
   ]
  },
  {
   "cell_type": "code",
   "execution_count": 22,
   "metadata": {},
   "outputs": [
    {
     "data": {
      "text/html": [
       "<div>\n",
       "<style scoped>\n",
       "    .dataframe tbody tr th:only-of-type {\n",
       "        vertical-align: middle;\n",
       "    }\n",
       "\n",
       "    .dataframe tbody tr th {\n",
       "        vertical-align: top;\n",
       "    }\n",
       "\n",
       "    .dataframe thead th {\n",
       "        text-align: right;\n",
       "    }\n",
       "</style>\n",
       "<table border=\"1\" class=\"dataframe\">\n",
       "  <thead>\n",
       "    <tr style=\"text-align: right;\">\n",
       "      <th></th>\n",
       "      <th>Unnamed: 0</th>\n",
       "      <th>MODEL</th>\n",
       "      <th>Region</th>\n",
       "      <th>Scenario</th>\n",
       "      <th>Year</th>\n",
       "      <th>Total_CO2</th>\n",
       "      <th>Total_GHG</th>\n",
       "      <th>BECCS</th>\n",
       "      <th>LANDCDR</th>\n",
       "      <th>TOTAL_CDR</th>\n",
       "      <th>CO2_Emissions</th>\n",
       "      <th>CUM_CO2</th>\n",
       "      <th>CUM_CDR</th>\n",
       "      <th>CUM_BECCS</th>\n",
       "      <th>Unit_CO2</th>\n",
       "      <th>BECCS_Investments</th>\n",
       "      <th>CUM_BECCS_Investments</th>\n",
       "      <th>Unit_Investment</th>\n",
       "      <th>Carbon_Price</th>\n",
       "      <th>Population</th>\n",
       "      <th>GDP</th>\n",
       "      <th>Unit_Population</th>\n",
       "      <th>cumPopulation</th>\n",
       "      <th>2016_emissions</th>\n",
       "      <th>em_change</th>\n",
       "      <th>Unit_GDP</th>\n",
       "      <th>GDP_cap</th>\n",
       "      <th>GDP_cap_avg</th>\n",
       "      <th>GDP_cap_CoI_nan</th>\n",
       "      <th>GDP_cap_CoI</th>\n",
       "      <th>GDP_CoI_nan</th>\n",
       "      <th>GDP_CoI</th>\n",
       "      <th>GDP_CoI_frac</th>\n",
       "      <th>CDR_fair_share_by_GDP</th>\n",
       "      <th>BECCS_fair_share_by_GDP</th>\n",
       "      <th>BECCS_investments_by_GDP</th>\n",
       "      <th>CUM_CDR_fair_share_by_GDP</th>\n",
       "      <th>CUM_BECCS_fair_share_by_GDP</th>\n",
       "      <th>CUM_BECCS_investments_by_GDP</th>\n",
       "      <th>Global_CUM_CO2_by_CUM_POP</th>\n",
       "      <th>Fair_share_by_CUM_POP</th>\n",
       "      <th>Excess_emissions_by_CUM_POP</th>\n",
       "      <th>Exc_em_fac_by_CUM_POP</th>\n",
       "      <th>CDR_fair_share_by_CUM_POP</th>\n",
       "      <th>BECCS_fair_share_by_CUM_POP</th>\n",
       "      <th>CUM_CDR_fair_share_by_CUM_POP</th>\n",
       "      <th>CUM_BECCS_fair_share_by_CUM_POP</th>\n",
       "      <th>CDR_model_vs_fair_share_by_CUM_POP</th>\n",
       "      <th>CDR_model_vs_fair_share_by_GDP</th>\n",
       "      <th>CUM_CDR_model_vs_fair_share_by_CUM_POP</th>\n",
       "      <th>CUM_CDR_model_vs_fair_share_by_GDP</th>\n",
       "      <th>BECCS_Investments_by_POP</th>\n",
       "      <th>CUM_BECCS_Investments_by_POP</th>\n",
       "      <th>BECCS_model_vs_fair_share_by_CUM_POP</th>\n",
       "      <th>BECCS_model_vs_fair_share_by_GDP</th>\n",
       "      <th>BECCS_invest_model_vs_FairShare_by_POP</th>\n",
       "      <th>BECCS_invest_model_vs_FairShare_by_GDP</th>\n",
       "      <th>CUM_BECCS_invest_model_vs_FairShare_by_POP</th>\n",
       "      <th>CUM_BECCS_invest_model_vs_FairShare_by_GDP</th>\n",
       "      <th>CUM_BECCS_model_vs_fair_share_by_CUM_POP</th>\n",
       "      <th>CUM_BECCS_model_vs_fair_share_by_GDP</th>\n",
       "    </tr>\n",
       "  </thead>\n",
       "  <tbody>\n",
       "    <tr>\n",
       "      <th>242</th>\n",
       "      <td>242</td>\n",
       "      <td>IMAGE</td>\n",
       "      <td>World</td>\n",
       "      <td>SSP1-19-SPA0-V17</td>\n",
       "      <td>2100</td>\n",
       "      <td>-13868.239259</td>\n",
       "      <td>-8311.088867</td>\n",
       "      <td>14286.237784</td>\n",
       "      <td>4262.548169</td>\n",
       "      <td>18548.785953</td>\n",
       "      <td>10237.697086</td>\n",
       "      <td>2.585502e+06</td>\n",
       "      <td>712215.796362</td>\n",
       "      <td>477250.356683</td>\n",
       "      <td>Mt/yr</td>\n",
       "      <td>63.846057</td>\n",
       "      <td>4057.11878</td>\n",
       "      <td>billion US$2005/yr</td>\n",
       "      <td>148.878879</td>\n",
       "      <td>6957.98877</td>\n",
       "      <td>565389625.0</td>\n",
       "      <td>Mio</td>\n",
       "      <td>846659.725961</td>\n",
       "      <td>47200.0</td>\n",
       "      <td>0.2169</td>\n",
       "      <td>USD Million</td>\n",
       "      <td>81257.62253</td>\n",
       "      <td>81257.62253</td>\n",
       "      <td>NaN</td>\n",
       "      <td>0.0</td>\n",
       "      <td>NaN</td>\n",
       "      <td>0.0</td>\n",
       "      <td>0.0</td>\n",
       "      <td>NaN</td>\n",
       "      <td>NaN</td>\n",
       "      <td>NaN</td>\n",
       "      <td>0.0</td>\n",
       "      <td>0.0</td>\n",
       "      <td>0.0</td>\n",
       "      <td>3.053767</td>\n",
       "      <td>2.585502e+06</td>\n",
       "      <td>0.0</td>\n",
       "      <td>NaN</td>\n",
       "      <td>0.0</td>\n",
       "      <td>0.0</td>\n",
       "      <td>0.0</td>\n",
       "      <td>0.0</td>\n",
       "      <td>-18548.785953</td>\n",
       "      <td>NaN</td>\n",
       "      <td>-712215.796362</td>\n",
       "      <td>-712215.796362</td>\n",
       "      <td>0.0</td>\n",
       "      <td>0.0</td>\n",
       "      <td>-14286.237784</td>\n",
       "      <td>NaN</td>\n",
       "      <td>-63.846057</td>\n",
       "      <td>NaN</td>\n",
       "      <td>0.0</td>\n",
       "      <td>0.0</td>\n",
       "      <td>0.0</td>\n",
       "      <td>0.0</td>\n",
       "    </tr>\n",
       "  </tbody>\n",
       "</table>\n",
       "</div>"
      ],
      "text/plain": [
       "     Unnamed: 0  MODEL Region          Scenario  Year     Total_CO2  \\\n",
       "242         242  IMAGE  World  SSP1-19-SPA0-V17  2100 -13868.239259   \n",
       "\n",
       "       Total_GHG         BECCS      LANDCDR     TOTAL_CDR  CO2_Emissions  \\\n",
       "242 -8311.088867  14286.237784  4262.548169  18548.785953   10237.697086   \n",
       "\n",
       "          CUM_CO2        CUM_CDR      CUM_BECCS Unit_CO2  BECCS_Investments  \\\n",
       "242  2.585502e+06  712215.796362  477250.356683    Mt/yr          63.846057   \n",
       "\n",
       "     CUM_BECCS_Investments     Unit_Investment  Carbon_Price  Population  \\\n",
       "242             4057.11878  billion US$2005/yr    148.878879  6957.98877   \n",
       "\n",
       "             GDP Unit_Population  cumPopulation  2016_emissions  em_change  \\\n",
       "242  565389625.0             Mio  846659.725961         47200.0     0.2169   \n",
       "\n",
       "        Unit_GDP      GDP_cap  GDP_cap_avg  GDP_cap_CoI_nan  GDP_cap_CoI  \\\n",
       "242  USD Million  81257.62253  81257.62253              NaN          0.0   \n",
       "\n",
       "     GDP_CoI_nan  GDP_CoI  GDP_CoI_frac  CDR_fair_share_by_GDP  \\\n",
       "242          NaN      0.0           0.0                    NaN   \n",
       "\n",
       "     BECCS_fair_share_by_GDP  BECCS_investments_by_GDP  \\\n",
       "242                      NaN                       NaN   \n",
       "\n",
       "     CUM_CDR_fair_share_by_GDP  CUM_BECCS_fair_share_by_GDP  \\\n",
       "242                        0.0                          0.0   \n",
       "\n",
       "     CUM_BECCS_investments_by_GDP  Global_CUM_CO2_by_CUM_POP  \\\n",
       "242                           0.0                   3.053767   \n",
       "\n",
       "     Fair_share_by_CUM_POP  Excess_emissions_by_CUM_POP  \\\n",
       "242           2.585502e+06                          0.0   \n",
       "\n",
       "     Exc_em_fac_by_CUM_POP  CDR_fair_share_by_CUM_POP  \\\n",
       "242                    NaN                        0.0   \n",
       "\n",
       "     BECCS_fair_share_by_CUM_POP  CUM_CDR_fair_share_by_CUM_POP  \\\n",
       "242                          0.0                            0.0   \n",
       "\n",
       "     CUM_BECCS_fair_share_by_CUM_POP  CDR_model_vs_fair_share_by_CUM_POP  \\\n",
       "242                              0.0                       -18548.785953   \n",
       "\n",
       "     CDR_model_vs_fair_share_by_GDP  CUM_CDR_model_vs_fair_share_by_CUM_POP  \\\n",
       "242                             NaN                          -712215.796362   \n",
       "\n",
       "     CUM_CDR_model_vs_fair_share_by_GDP  BECCS_Investments_by_POP  \\\n",
       "242                      -712215.796362                       0.0   \n",
       "\n",
       "     CUM_BECCS_Investments_by_POP  BECCS_model_vs_fair_share_by_CUM_POP  \\\n",
       "242                           0.0                         -14286.237784   \n",
       "\n",
       "     BECCS_model_vs_fair_share_by_GDP  BECCS_invest_model_vs_FairShare_by_POP  \\\n",
       "242                               NaN                              -63.846057   \n",
       "\n",
       "     BECCS_invest_model_vs_FairShare_by_GDP  \\\n",
       "242                                     NaN   \n",
       "\n",
       "     CUM_BECCS_invest_model_vs_FairShare_by_POP  \\\n",
       "242                                         0.0   \n",
       "\n",
       "     CUM_BECCS_invest_model_vs_FairShare_by_GDP  \\\n",
       "242                                         0.0   \n",
       "\n",
       "     CUM_BECCS_model_vs_fair_share_by_CUM_POP  \\\n",
       "242                                       0.0   \n",
       "\n",
       "     CUM_BECCS_model_vs_fair_share_by_GDP  \n",
       "242                                   0.0  "
      ]
     },
     "execution_count": 22,
     "metadata": {},
     "output_type": "execute_result"
    }
   ],
   "source": [
    "equity_image.loc[(equity_image.Scenario==('SSP1-19-SPA0-V17')) & (equity_image.Region==('World')) & (equity_image.Year==(2100))]"
   ]
  },
  {
   "cell_type": "code",
   "execution_count": 52,
   "metadata": {},
   "outputs": [
    {
     "data": {
      "text/plain": [
       "array([False])"
      ]
     },
     "execution_count": 52,
     "metadata": {},
     "output_type": "execute_result"
    }
   ],
   "source": [
    "test_equity_remind=equity_remind.copy()\n",
    "\n",
    "test_equity_remind['true_or_false'] = 0\n",
    "rfilt_wo_world=(test_equity_remind.Region!='World')\n",
    "rfilt_world=(test_equity_remind.Region == 'World')\n",
    "for scen in test_equity_remind.Scenario.unique():\n",
    "    scen_mask = (test_equity_remind.Scenario == scen)\n",
    "    for yr in test_equity_remind.Year.unique():\n",
    "        yr_mask = (test_equity_remind.Year == yr)\n",
    "        all_regions=test_equity_remind.loc[scen_mask&yr_mask&rfilt_wo_world,'BECCS'].sum()\n",
    "        world_only=test_equity_remind.loc[scen_mask&yr_mask&rfilt_world,'BECCS'].values\n",
    "        \n",
    "all_regions==world_only"
   ]
  },
  {
   "cell_type": "code",
   "execution_count": 56,
   "metadata": {},
   "outputs": [
    {
     "data": {
      "text/plain": [
       "107    12130.0\n",
       "Name: BECCS, dtype: float64"
      ]
     },
     "execution_count": 56,
     "metadata": {},
     "output_type": "execute_result"
    }
   ],
   "source": [
    "test_equity_remind.loc[(test_equity_remind.Scenario==('SSP1-19-SPA1-V17'))\n",
    "                       &(test_equity_remind.Year==(2100))\n",
    "                       &(test_equity_remind.Region.isin(regions_rem_noworld))]['BECCS'].sum()\n",
    "#12129.299999999997\n",
    "test_equity_remind.loc[(test_equity_remind.Scenario==('SSP1-19-SPA1-V17'))\n",
    "                       &(test_equity_remind.Year==(2100))\n",
    "                       &(test_equity_remind.Region==('World'))]['BECCS']\n",
    "#12130.0"
   ]
  },
  {
   "cell_type": "code",
   "execution_count": 39,
   "metadata": {},
   "outputs": [],
   "source": [
    "#function to see if the sum of all region values w/o world adds up to --index length different \n",
    "def world_equals_all_regions(equity_df):\n",
    "    equity_df['true_or_false'] = 0\n",
    "    rfilt_wo_world=(equity_df.Region!='World')\n",
    "    rfilt_world=(equity_df.Region == 'World')\n",
    "    for scen in equity_df.Scenario.unique():\n",
    "        scen_mask = (equity_df.Scenario == scen)\n",
    "        for yr in equity_df.Year.unique():\n",
    "            yr_mask = (equity_df.Year == yr)\n",
    "        \n",
    "            equity_df[scen_mask&yr_mask,'true_or_false']=equity_df.loc[scen_mask&yr_mask&rfilt_wo_world,\n",
    "#error here                                        'BECCS'].values.sum() == equity_df.loc[scen_mask&yr_mask&rfilt_world\n",
    "                                                                       ,'BECCS'].values\n",
    "    return equity_df"
   ]
  },
  {
   "cell_type": "code",
   "execution_count": 80,
   "metadata": {},
   "outputs": [],
   "source": [
    "#function to get  ∫(NE traded at each time step x leakage %) \n",
    "def integral_total_excess_BECCS_by_CUM_POP(equity_df, scen, leakage_rate):\n",
    "    rfilt_wo_world=(equity_df.Region!='World')  \n",
    "    scen_filt = (equity_df.Scenario == scen)\n",
    "    for yr in equity_df.Year.unique():\n",
    "        yrfilt=(equity_df.Year==yr)\n",
    "        excdrfilt_POP=(equity_df.BECCS_model_vs_fair_share_by_CUM_POP>0)&rfilt_wo_world&yrfilt&scen_filt\n",
    "        yearly_leakage=equity_df.loc[excdrfilt_POP,'BECCS_model_vs_fair_share_by_CUM_POP'].sum()*leakage_rate\n",
    "    \n",
    "    return yearly_leakage"
   ]
  },
  {
   "cell_type": "code",
   "execution_count": 81,
   "metadata": {},
   "outputs": [
    {
     "data": {
      "text/plain": [
       "504.6140723470745"
      ]
     },
     "execution_count": 81,
     "metadata": {},
     "output_type": "execute_result"
    }
   ],
   "source": [
    "integral_total_excess_BECCS_by_CUM_POP(equity_remind, 'SSP1-19-SPA1-V17', 0.1)"
   ]
  },
  {
   "cell_type": "code",
   "execution_count": null,
   "metadata": {},
   "outputs": [],
   "source": [
    "def create_cum_BECCS_leakage_table(main_df):\n",
    "    scens=main_df.Scenario.unique()\n",
    "    netzero_df=pd.DataFrame(columns=['Model', 'Scenario', 'BECCS_no_leakage',\n",
    "                                     'BECCS_w_10%leakage','BECCS_w_20%leakage',\n",
    "                                     'BECCS_w_30%leakage','BECCS_w_40%leakage'])  \n",
    "    netzero_df['Scenario']=scens\n",
    "    netzero_df['Model']=['REMIND','REMIND','REMIND','REMIND','REMIND','REMIND','IMAGE','IMAGE']\n",
    "    \n",
    "    for i in np.arange(0,len(scens)):\n",
    "        netzero_df.loc[i,'NetZero_w_no_leakage']=get_year_netzero(main_df, scens[i],'Total_GHG')\n",
    "        netzero_df.loc[i,'NetZero_w_10%leakage']=get_year_netzero(main_df, scens[i],'Total_GHG_w10%BECCS_leakage')\n",
    "        netzero_df.loc[i,'NetZero_w_20%leakage']=get_year_netzero(main_df, scens[i],'Total_GHG_w20%BECCS_leakage')\n",
    "        netzero_df.loc[i,'NetZero_w_30%leakage']=get_year_netzero(main_df, scens[i],'Total_GHG_w30%BECCS_leakage')\n",
    "        netzero_df.loc[i,'NetZero_w_40%leakage']=get_year_netzero(main_df, scens[i],'Total_GHG_w40%BECCS_leakage')\n",
    "        \n",
    "    return netzero_df"
   ]
  },
  {
   "cell_type": "code",
   "execution_count": null,
   "metadata": {},
   "outputs": [],
   "source": [
    "#use of integrate.cumtrapz\n",
    "def cum_BECCS_leakage(main_df, leakage_rate): \n",
    "    for scen in main_df.Scenario.unique():\n",
    "        for reg in main_df.Region.unique():\n",
    "            main_df.loc[(main_df.Year == 2020), 'BECCS_model_vs_fair_share_by_CUM_POP'] = main_df.loc[(main_df.Year == 2020), 'BECCS_invest_model_vs_FairShare_by_POP'] \n",
    "\n",
    "    for reg in main_df.Region.unique():\n",
    "        if reg in regions_names_noworld: ##necessary? does not complete the loop if inserted \n",
    "            mask = main_df.Region == reg\n",
    "            full_reg = main_df.loc[mask,:]\n",
    "\n",
    "            for scen in full_reg.Scenario.unique():\n",
    "                mask_scen = full_reg.Scenario == scen\n",
    "                full_scen = full_reg.loc[mask_scen,:]\n",
    "                integral = integrate.cumtrapz(y = full_scen.BECCS_invest_model_vs_FairShare_by_POP, x = full_scen.Year, initial = 0)\n",
    "                full_reg.loc[mask_scen,'CUM_BECCS_invest_model_vs_FairShare_by_POP'] += integral\n",
    "            main_df.loc[mask,'CUM_BECCS_invest_model_vs_FairShare_by_POP'] = full_reg.loc[:,'CUM_BECCS_invest_model_vs_FairShare_by_POP']\n",
    "    \n",
    "    return main_df"
   ]
  },
  {
   "cell_type": "code",
   "execution_count": null,
   "metadata": {},
   "outputs": [],
   "source": [
    "#add leakage amounts (10%-40%)\n",
    "def create_BECCS_CO2_transfer_table(equity_df):\n",
    "    scens=equity_df.Scenario.unique()\n",
    "    transfer_df=pd.DataFrame(columns=['Scenario', 'Model', 'Unit', 'Total_transfers:by_GDP',\n",
    "                                      'Total_transfers:by_CUM_POP'])  \n",
    "    #transfer_df['Unit']='billion US$2005'\n",
    "    transfer_df['Scenario']=scens\n",
    "    transfer_df['Model']=equity_df['MODEL']\n",
    "    \n",
    "    for i in np.arange(0,len(scens)):\n",
    "        transfer_df.loc[i,'Unit']='Mt/yr'\n",
    "        transfer_df.loc[i,'Total_transfers:by_GDP']=total_excess_BECCS_by_GDP(equity_df, scens[i]) #this is how much money that will be trasnferred worldwide\n",
    "        transfer_df.loc[i,'Total_transfers:by_CUM_POP']=total_excess_BECCS_by_CUM_POP(equity_df, scens[i]) \n",
    "        \n",
    "    return transfer_df\n",
    "\n",
    "BECCS_leakage_image=create_BECCS_CO2_transfer_table(equity_image)\n",
    "BECCS_leakage_remind=create_BECCS_CO2_transfer_table(equity_remind)\n",
    "\n",
    "BECCS_leakage_allmodels=pd.concat([BECCS_leakage_image,BECCS_leakage_remind])\n",
    "BECCS_leakage_allmodels.loc[:,'10%_leakage:by_GDP'] = BECCS_leakage_allmodels.loc[:,'Total_transfers:by_GDP'] * 0.1\n",
    "BECCS_leakage_allmodels.loc[:,'10%_leakage:by_CUM_POP'] = BECCS_leakage_allmodels.loc[:,'Total_transfers:by_CUM_POP'] * 0.1\n",
    "BECCS_leakage_allmodels.loc[:,'20%_leakage:by_GDP'] = BECCS_leakage_allmodels.loc[:,'Total_transfers:by_GDP'] * 0.2\n",
    "BECCS_leakage_allmodels.loc[:,'20%_leakage:by_CUM_POP'] = BECCS_leakage_allmodels.loc[:,'Total_transfers:by_CUM_POP'] * 0.2\n",
    "BECCS_leakage_allmodels.loc[:,'30%_leakage:by_GDP'] = BECCS_leakage_allmodels.loc[:,'Total_transfers:by_GDP'] * 0.3\n",
    "BECCS_leakage_allmodels.loc[:,'30%_leakage:by_CUM_POP'] = BECCS_leakage_allmodels.loc[:,'Total_transfers:by_CUM_POP'] * 0.3\n",
    "BECCS_leakage_allmodels.loc[:,'40%_leakage:by_GDP'] = BECCS_leakage_allmodels.loc[:,'Total_transfers:by_GDP'] * 0.4\n",
    "BECCS_leakage_allmodels.loc[:,'40%_leakage:by_CUM_POP'] = BECCS_leakage_allmodels.loc[:,'Total_transfers:by_CUM_POP'] * 0.4\n",
    "\n",
    "BECCS_leakage_allmodels"
   ]
  },
  {
   "cell_type": "code",
   "execution_count": null,
   "metadata": {},
   "outputs": [],
   "source": [
    "def create_BECCS_transfer_table(equity_df):\n",
    "    scens=equity_df.Scenario.unique()\n",
    "    transfer_df=pd.DataFrame(columns=['Scenario', 'Model', 'Unit', 'Total_transfers:by_GDP',\n",
    "                                      'Total_transfers:by_CUM_POP'])  \n",
    "    #transfer_df['Unit']='billion US$2005'\n",
    "    transfer_df['Scenario']=scens\n",
    "    transfer_df['Model']=equity_df['MODEL']\n",
    "    \n",
    "    for i in np.arange(0,len(scens)):\n",
    "        transfer_df.loc[i,'Unit']='Mt/yr'\n",
    "        transfer_df.loc[i,'Total_transfers:by_GDP']=total_excess_BECCS_by_GDP(equity_df, scens[i]) #this is how much money that will be trasnferred worldwide\n",
    "        transfer_df.loc[i,'Total_transfers:by_CUM_POP']=total_excess_BECCS_by_CUM_POP(equity_df, scens[i]) \n",
    "        \n",
    "    return transfer_df\n"
   ]
  },
  {
   "cell_type": "code",
   "execution_count": null,
   "metadata": {},
   "outputs": [],
   "source": [
    "def create_cum_BECCS_leakage_table(main_df):\n",
    "    scens=main_df.Scenario.unique()\n",
    "    netzero_df=pd.DataFrame(columns=['Model', 'Scenario', 'BECCS_no_leakage',\n",
    "                                     'BECCS_w_10%leakage','BECCS_w_20%leakage',\n",
    "                                     'BECCS_w_30%leakage','BECCS_w_40%leakage'])  \n",
    "    netzero_df['Scenario']=scens\n",
    "    netzero_df['Model']=['REMIND','REMIND','REMIND','REMIND','REMIND','REMIND','IMAGE','IMAGE']\n",
    "    \n",
    "    for i in np.arange(0,len(scens)):\n",
    "        netzero_df.loc[i,'NetZero_w_no_leakage']=get_year_netzero(main_df, scens[i],'Total_GHG')\n",
    "        netzero_df.loc[i,'NetZero_w_10%leakage']=get_year_netzero(main_df, scens[i],'Total_GHG_w10%BECCS_leakage')\n",
    "        netzero_df.loc[i,'NetZero_w_20%leakage']=get_year_netzero(main_df, scens[i],'Total_GHG_w20%BECCS_leakage')\n",
    "        netzero_df.loc[i,'NetZero_w_30%leakage']=get_year_netzero(main_df, scens[i],'Total_GHG_w30%BECCS_leakage')\n",
    "        netzero_df.loc[i,'NetZero_w_40%leakage']=get_year_netzero(main_df, scens[i],'Total_GHG_w40%BECCS_leakage')\n",
    "        \n",
    "    return netzero_df"
   ]
  }
 ],
 "metadata": {
  "kernelspec": {
   "display_name": "Python 3",
   "language": "python",
   "name": "python3"
  },
  "language_info": {
   "codemirror_mode": {
    "name": "ipython",
    "version": 3
   },
   "file_extension": ".py",
   "mimetype": "text/x-python",
   "name": "python",
   "nbconvert_exporter": "python",
   "pygments_lexer": "ipython3",
   "version": "3.7.6"
  }
 },
 "nbformat": 4,
 "nbformat_minor": 2
}
